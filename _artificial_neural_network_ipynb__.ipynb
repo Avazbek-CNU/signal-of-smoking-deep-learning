{
  "nbformat": 4,
  "nbformat_minor": 0,
  "metadata": {
    "colab": {
      "provenance": []
    },
    "kernelspec": {
      "name": "python3",
      "display_name": "Python 3"
    }
  },
  "cells": [
    {
      "cell_type": "markdown",
      "metadata": {
        "id": "lP6JLo1tGNBg"
      },
      "source": [
        "# Artificial Neural Network"
      ]
    },
    {
      "cell_type": "markdown",
      "source": [
        "This dataset is a collection of basic health biological signal data.\n",
        "The goal is to determine the presence or absence of smoking through bio-signals using deep learning"
      ],
      "metadata": {
        "id": "1C6QaShrAuV-"
      }
    },
    {
      "cell_type": "markdown",
      "metadata": {
        "id": "gWZyYmS_UE_L"
      },
      "source": [
        "### Importing the libraries"
      ]
    },
    {
      "cell_type": "code",
      "metadata": {
        "id": "MxkJoQBkUIHC"
      },
      "source": [
        "import numpy as np\n",
        "import pandas as pd\n",
        "import tensorflow as tf"
      ],
      "execution_count": 1,
      "outputs": []
    },
    {
      "cell_type": "markdown",
      "metadata": {
        "id": "1E0Q3aoKUCRX"
      },
      "source": [
        "## Part 1 - Data Preprocessing"
      ]
    },
    {
      "cell_type": "markdown",
      "metadata": {
        "id": "cKWAkFVGUU0Z"
      },
      "source": [
        "### Importing the dataset"
      ]
    },
    {
      "cell_type": "code",
      "source": [
        "df=pd.read_csv('smoking.csv')"
      ],
      "metadata": {
        "id": "EZEnjF51ZYH0"
      },
      "execution_count": 53,
      "outputs": []
    },
    {
      "cell_type": "code",
      "source": [
        "df.head(10)"
      ],
      "metadata": {
        "colab": {
          "base_uri": "https://localhost:8080/",
          "height": 473
        },
        "id": "bCKDokGKLjDr",
        "outputId": "f78b5a13-2ab1-4c33-e8e4-a46f9462be14"
      },
      "execution_count": 54,
      "outputs": [
        {
          "output_type": "execute_result",
          "data": {
            "text/plain": [
              "   ID gender  age  height(cm)  weight(kg)  waist(cm)  eyesight(left)  \\\n",
              "0   0      F   40         155          60       81.3             1.2   \n",
              "1   1      F   40         160          60       81.0             0.8   \n",
              "2   2      M   55         170          60       80.0             0.8   \n",
              "3   3      M   40         165          70       88.0             1.5   \n",
              "4   4      F   40         155          60       86.0             1.0   \n",
              "5   5      M   30         180          75       85.0             1.2   \n",
              "6   6      M   40         160          60       85.5             1.0   \n",
              "7   7      M   45         165          90       96.0             1.2   \n",
              "8   9      F   50         150          60       85.0             0.7   \n",
              "9  10      M   45         175          75       89.0             1.0   \n",
              "\n",
              "   eyesight(right)  hearing(left)  hearing(right)  ...  hemoglobin  \\\n",
              "0              1.0            1.0             1.0  ...        12.9   \n",
              "1              0.6            1.0             1.0  ...        12.7   \n",
              "2              0.8            1.0             1.0  ...        15.8   \n",
              "3              1.5            1.0             1.0  ...        14.7   \n",
              "4              1.0            1.0             1.0  ...        12.5   \n",
              "5              1.2            1.0             1.0  ...        16.2   \n",
              "6              1.0            1.0             1.0  ...        17.0   \n",
              "7              1.0            1.0             1.0  ...        15.0   \n",
              "8              0.8            1.0             1.0  ...        13.7   \n",
              "9              1.0            1.0             1.0  ...        16.0   \n",
              "\n",
              "   Urine protein  serum creatinine   AST   ALT    Gtp  oral  dental caries  \\\n",
              "0            1.0               0.7  18.0  19.0   27.0     Y              0   \n",
              "1            1.0               0.6  22.0  19.0   18.0     Y              0   \n",
              "2            1.0               1.0  21.0  16.0   22.0     Y              0   \n",
              "3            1.0               1.0  19.0  26.0   18.0     Y              0   \n",
              "4            1.0               0.6  16.0  14.0   22.0     Y              0   \n",
              "5            1.0               1.2  18.0  27.0   33.0     Y              0   \n",
              "6            1.0               0.7  21.0  27.0   39.0     Y              1   \n",
              "7            1.0               1.3  38.0  71.0  111.0     Y              0   \n",
              "8            1.0               0.8  31.0  31.0   14.0     Y              0   \n",
              "9            1.0               0.8  26.0  24.0   63.0     Y              0   \n",
              "\n",
              "   tartar  smoking  \n",
              "0       Y        0  \n",
              "1       Y        0  \n",
              "2       N        1  \n",
              "3       Y        0  \n",
              "4       N        0  \n",
              "5       Y        0  \n",
              "6       Y        1  \n",
              "7       Y        0  \n",
              "8       N        0  \n",
              "9       N        0  \n",
              "\n",
              "[10 rows x 27 columns]"
            ],
            "text/html": [
              "\n",
              "  <div id=\"df-350bf1d4-2375-4a38-9880-9af4e831144a\">\n",
              "    <div class=\"colab-df-container\">\n",
              "      <div>\n",
              "<style scoped>\n",
              "    .dataframe tbody tr th:only-of-type {\n",
              "        vertical-align: middle;\n",
              "    }\n",
              "\n",
              "    .dataframe tbody tr th {\n",
              "        vertical-align: top;\n",
              "    }\n",
              "\n",
              "    .dataframe thead th {\n",
              "        text-align: right;\n",
              "    }\n",
              "</style>\n",
              "<table border=\"1\" class=\"dataframe\">\n",
              "  <thead>\n",
              "    <tr style=\"text-align: right;\">\n",
              "      <th></th>\n",
              "      <th>ID</th>\n",
              "      <th>gender</th>\n",
              "      <th>age</th>\n",
              "      <th>height(cm)</th>\n",
              "      <th>weight(kg)</th>\n",
              "      <th>waist(cm)</th>\n",
              "      <th>eyesight(left)</th>\n",
              "      <th>eyesight(right)</th>\n",
              "      <th>hearing(left)</th>\n",
              "      <th>hearing(right)</th>\n",
              "      <th>...</th>\n",
              "      <th>hemoglobin</th>\n",
              "      <th>Urine protein</th>\n",
              "      <th>serum creatinine</th>\n",
              "      <th>AST</th>\n",
              "      <th>ALT</th>\n",
              "      <th>Gtp</th>\n",
              "      <th>oral</th>\n",
              "      <th>dental caries</th>\n",
              "      <th>tartar</th>\n",
              "      <th>smoking</th>\n",
              "    </tr>\n",
              "  </thead>\n",
              "  <tbody>\n",
              "    <tr>\n",
              "      <th>0</th>\n",
              "      <td>0</td>\n",
              "      <td>F</td>\n",
              "      <td>40</td>\n",
              "      <td>155</td>\n",
              "      <td>60</td>\n",
              "      <td>81.3</td>\n",
              "      <td>1.2</td>\n",
              "      <td>1.0</td>\n",
              "      <td>1.0</td>\n",
              "      <td>1.0</td>\n",
              "      <td>...</td>\n",
              "      <td>12.9</td>\n",
              "      <td>1.0</td>\n",
              "      <td>0.7</td>\n",
              "      <td>18.0</td>\n",
              "      <td>19.0</td>\n",
              "      <td>27.0</td>\n",
              "      <td>Y</td>\n",
              "      <td>0</td>\n",
              "      <td>Y</td>\n",
              "      <td>0</td>\n",
              "    </tr>\n",
              "    <tr>\n",
              "      <th>1</th>\n",
              "      <td>1</td>\n",
              "      <td>F</td>\n",
              "      <td>40</td>\n",
              "      <td>160</td>\n",
              "      <td>60</td>\n",
              "      <td>81.0</td>\n",
              "      <td>0.8</td>\n",
              "      <td>0.6</td>\n",
              "      <td>1.0</td>\n",
              "      <td>1.0</td>\n",
              "      <td>...</td>\n",
              "      <td>12.7</td>\n",
              "      <td>1.0</td>\n",
              "      <td>0.6</td>\n",
              "      <td>22.0</td>\n",
              "      <td>19.0</td>\n",
              "      <td>18.0</td>\n",
              "      <td>Y</td>\n",
              "      <td>0</td>\n",
              "      <td>Y</td>\n",
              "      <td>0</td>\n",
              "    </tr>\n",
              "    <tr>\n",
              "      <th>2</th>\n",
              "      <td>2</td>\n",
              "      <td>M</td>\n",
              "      <td>55</td>\n",
              "      <td>170</td>\n",
              "      <td>60</td>\n",
              "      <td>80.0</td>\n",
              "      <td>0.8</td>\n",
              "      <td>0.8</td>\n",
              "      <td>1.0</td>\n",
              "      <td>1.0</td>\n",
              "      <td>...</td>\n",
              "      <td>15.8</td>\n",
              "      <td>1.0</td>\n",
              "      <td>1.0</td>\n",
              "      <td>21.0</td>\n",
              "      <td>16.0</td>\n",
              "      <td>22.0</td>\n",
              "      <td>Y</td>\n",
              "      <td>0</td>\n",
              "      <td>N</td>\n",
              "      <td>1</td>\n",
              "    </tr>\n",
              "    <tr>\n",
              "      <th>3</th>\n",
              "      <td>3</td>\n",
              "      <td>M</td>\n",
              "      <td>40</td>\n",
              "      <td>165</td>\n",
              "      <td>70</td>\n",
              "      <td>88.0</td>\n",
              "      <td>1.5</td>\n",
              "      <td>1.5</td>\n",
              "      <td>1.0</td>\n",
              "      <td>1.0</td>\n",
              "      <td>...</td>\n",
              "      <td>14.7</td>\n",
              "      <td>1.0</td>\n",
              "      <td>1.0</td>\n",
              "      <td>19.0</td>\n",
              "      <td>26.0</td>\n",
              "      <td>18.0</td>\n",
              "      <td>Y</td>\n",
              "      <td>0</td>\n",
              "      <td>Y</td>\n",
              "      <td>0</td>\n",
              "    </tr>\n",
              "    <tr>\n",
              "      <th>4</th>\n",
              "      <td>4</td>\n",
              "      <td>F</td>\n",
              "      <td>40</td>\n",
              "      <td>155</td>\n",
              "      <td>60</td>\n",
              "      <td>86.0</td>\n",
              "      <td>1.0</td>\n",
              "      <td>1.0</td>\n",
              "      <td>1.0</td>\n",
              "      <td>1.0</td>\n",
              "      <td>...</td>\n",
              "      <td>12.5</td>\n",
              "      <td>1.0</td>\n",
              "      <td>0.6</td>\n",
              "      <td>16.0</td>\n",
              "      <td>14.0</td>\n",
              "      <td>22.0</td>\n",
              "      <td>Y</td>\n",
              "      <td>0</td>\n",
              "      <td>N</td>\n",
              "      <td>0</td>\n",
              "    </tr>\n",
              "    <tr>\n",
              "      <th>5</th>\n",
              "      <td>5</td>\n",
              "      <td>M</td>\n",
              "      <td>30</td>\n",
              "      <td>180</td>\n",
              "      <td>75</td>\n",
              "      <td>85.0</td>\n",
              "      <td>1.2</td>\n",
              "      <td>1.2</td>\n",
              "      <td>1.0</td>\n",
              "      <td>1.0</td>\n",
              "      <td>...</td>\n",
              "      <td>16.2</td>\n",
              "      <td>1.0</td>\n",
              "      <td>1.2</td>\n",
              "      <td>18.0</td>\n",
              "      <td>27.0</td>\n",
              "      <td>33.0</td>\n",
              "      <td>Y</td>\n",
              "      <td>0</td>\n",
              "      <td>Y</td>\n",
              "      <td>0</td>\n",
              "    </tr>\n",
              "    <tr>\n",
              "      <th>6</th>\n",
              "      <td>6</td>\n",
              "      <td>M</td>\n",
              "      <td>40</td>\n",
              "      <td>160</td>\n",
              "      <td>60</td>\n",
              "      <td>85.5</td>\n",
              "      <td>1.0</td>\n",
              "      <td>1.0</td>\n",
              "      <td>1.0</td>\n",
              "      <td>1.0</td>\n",
              "      <td>...</td>\n",
              "      <td>17.0</td>\n",
              "      <td>1.0</td>\n",
              "      <td>0.7</td>\n",
              "      <td>21.0</td>\n",
              "      <td>27.0</td>\n",
              "      <td>39.0</td>\n",
              "      <td>Y</td>\n",
              "      <td>1</td>\n",
              "      <td>Y</td>\n",
              "      <td>1</td>\n",
              "    </tr>\n",
              "    <tr>\n",
              "      <th>7</th>\n",
              "      <td>7</td>\n",
              "      <td>M</td>\n",
              "      <td>45</td>\n",
              "      <td>165</td>\n",
              "      <td>90</td>\n",
              "      <td>96.0</td>\n",
              "      <td>1.2</td>\n",
              "      <td>1.0</td>\n",
              "      <td>1.0</td>\n",
              "      <td>1.0</td>\n",
              "      <td>...</td>\n",
              "      <td>15.0</td>\n",
              "      <td>1.0</td>\n",
              "      <td>1.3</td>\n",
              "      <td>38.0</td>\n",
              "      <td>71.0</td>\n",
              "      <td>111.0</td>\n",
              "      <td>Y</td>\n",
              "      <td>0</td>\n",
              "      <td>Y</td>\n",
              "      <td>0</td>\n",
              "    </tr>\n",
              "    <tr>\n",
              "      <th>8</th>\n",
              "      <td>9</td>\n",
              "      <td>F</td>\n",
              "      <td>50</td>\n",
              "      <td>150</td>\n",
              "      <td>60</td>\n",
              "      <td>85.0</td>\n",
              "      <td>0.7</td>\n",
              "      <td>0.8</td>\n",
              "      <td>1.0</td>\n",
              "      <td>1.0</td>\n",
              "      <td>...</td>\n",
              "      <td>13.7</td>\n",
              "      <td>1.0</td>\n",
              "      <td>0.8</td>\n",
              "      <td>31.0</td>\n",
              "      <td>31.0</td>\n",
              "      <td>14.0</td>\n",
              "      <td>Y</td>\n",
              "      <td>0</td>\n",
              "      <td>N</td>\n",
              "      <td>0</td>\n",
              "    </tr>\n",
              "    <tr>\n",
              "      <th>9</th>\n",
              "      <td>10</td>\n",
              "      <td>M</td>\n",
              "      <td>45</td>\n",
              "      <td>175</td>\n",
              "      <td>75</td>\n",
              "      <td>89.0</td>\n",
              "      <td>1.0</td>\n",
              "      <td>1.0</td>\n",
              "      <td>1.0</td>\n",
              "      <td>1.0</td>\n",
              "      <td>...</td>\n",
              "      <td>16.0</td>\n",
              "      <td>1.0</td>\n",
              "      <td>0.8</td>\n",
              "      <td>26.0</td>\n",
              "      <td>24.0</td>\n",
              "      <td>63.0</td>\n",
              "      <td>Y</td>\n",
              "      <td>0</td>\n",
              "      <td>N</td>\n",
              "      <td>0</td>\n",
              "    </tr>\n",
              "  </tbody>\n",
              "</table>\n",
              "<p>10 rows × 27 columns</p>\n",
              "</div>\n",
              "      <button class=\"colab-df-convert\" onclick=\"convertToInteractive('df-350bf1d4-2375-4a38-9880-9af4e831144a')\"\n",
              "              title=\"Convert this dataframe to an interactive table.\"\n",
              "              style=\"display:none;\">\n",
              "        \n",
              "  <svg xmlns=\"http://www.w3.org/2000/svg\" height=\"24px\"viewBox=\"0 0 24 24\"\n",
              "       width=\"24px\">\n",
              "    <path d=\"M0 0h24v24H0V0z\" fill=\"none\"/>\n",
              "    <path d=\"M18.56 5.44l.94 2.06.94-2.06 2.06-.94-2.06-.94-.94-2.06-.94 2.06-2.06.94zm-11 1L8.5 8.5l.94-2.06 2.06-.94-2.06-.94L8.5 2.5l-.94 2.06-2.06.94zm10 10l.94 2.06.94-2.06 2.06-.94-2.06-.94-.94-2.06-.94 2.06-2.06.94z\"/><path d=\"M17.41 7.96l-1.37-1.37c-.4-.4-.92-.59-1.43-.59-.52 0-1.04.2-1.43.59L10.3 9.45l-7.72 7.72c-.78.78-.78 2.05 0 2.83L4 21.41c.39.39.9.59 1.41.59.51 0 1.02-.2 1.41-.59l7.78-7.78 2.81-2.81c.8-.78.8-2.07 0-2.86zM5.41 20L4 18.59l7.72-7.72 1.47 1.35L5.41 20z\"/>\n",
              "  </svg>\n",
              "      </button>\n",
              "      \n",
              "  <style>\n",
              "    .colab-df-container {\n",
              "      display:flex;\n",
              "      flex-wrap:wrap;\n",
              "      gap: 12px;\n",
              "    }\n",
              "\n",
              "    .colab-df-convert {\n",
              "      background-color: #E8F0FE;\n",
              "      border: none;\n",
              "      border-radius: 50%;\n",
              "      cursor: pointer;\n",
              "      display: none;\n",
              "      fill: #1967D2;\n",
              "      height: 32px;\n",
              "      padding: 0 0 0 0;\n",
              "      width: 32px;\n",
              "    }\n",
              "\n",
              "    .colab-df-convert:hover {\n",
              "      background-color: #E2EBFA;\n",
              "      box-shadow: 0px 1px 2px rgba(60, 64, 67, 0.3), 0px 1px 3px 1px rgba(60, 64, 67, 0.15);\n",
              "      fill: #174EA6;\n",
              "    }\n",
              "\n",
              "    [theme=dark] .colab-df-convert {\n",
              "      background-color: #3B4455;\n",
              "      fill: #D2E3FC;\n",
              "    }\n",
              "\n",
              "    [theme=dark] .colab-df-convert:hover {\n",
              "      background-color: #434B5C;\n",
              "      box-shadow: 0px 1px 3px 1px rgba(0, 0, 0, 0.15);\n",
              "      filter: drop-shadow(0px 1px 2px rgba(0, 0, 0, 0.3));\n",
              "      fill: #FFFFFF;\n",
              "    }\n",
              "  </style>\n",
              "\n",
              "      <script>\n",
              "        const buttonEl =\n",
              "          document.querySelector('#df-350bf1d4-2375-4a38-9880-9af4e831144a button.colab-df-convert');\n",
              "        buttonEl.style.display =\n",
              "          google.colab.kernel.accessAllowed ? 'block' : 'none';\n",
              "\n",
              "        async function convertToInteractive(key) {\n",
              "          const element = document.querySelector('#df-350bf1d4-2375-4a38-9880-9af4e831144a');\n",
              "          const dataTable =\n",
              "            await google.colab.kernel.invokeFunction('convertToInteractive',\n",
              "                                                     [key], {});\n",
              "          if (!dataTable) return;\n",
              "\n",
              "          const docLinkHtml = 'Like what you see? Visit the ' +\n",
              "            '<a target=\"_blank\" href=https://colab.research.google.com/notebooks/data_table.ipynb>data table notebook</a>'\n",
              "            + ' to learn more about interactive tables.';\n",
              "          element.innerHTML = '';\n",
              "          dataTable['output_type'] = 'display_data';\n",
              "          await google.colab.output.renderOutput(dataTable, element);\n",
              "          const docLink = document.createElement('div');\n",
              "          docLink.innerHTML = docLinkHtml;\n",
              "          element.appendChild(docLink);\n",
              "        }\n",
              "      </script>\n",
              "    </div>\n",
              "  </div>\n",
              "  "
            ]
          },
          "metadata": {},
          "execution_count": 54
        }
      ]
    },
    {
      "cell_type": "code",
      "source": [
        "df = df.replace({'Y':1,'N':0})\n",
        "df.head()"
      ],
      "metadata": {
        "colab": {
          "base_uri": "https://localhost:8080/",
          "height": 317
        },
        "id": "SFb91JVb5k3p",
        "outputId": "7e22d7be-ded7-4abe-c29e-54ebd9f51ab5"
      },
      "execution_count": 55,
      "outputs": [
        {
          "output_type": "execute_result",
          "data": {
            "text/plain": [
              "   ID gender  age  height(cm)  weight(kg)  waist(cm)  eyesight(left)  \\\n",
              "0   0      F   40         155          60       81.3             1.2   \n",
              "1   1      F   40         160          60       81.0             0.8   \n",
              "2   2      M   55         170          60       80.0             0.8   \n",
              "3   3      M   40         165          70       88.0             1.5   \n",
              "4   4      F   40         155          60       86.0             1.0   \n",
              "\n",
              "   eyesight(right)  hearing(left)  hearing(right)  ...  hemoglobin  \\\n",
              "0              1.0            1.0             1.0  ...        12.9   \n",
              "1              0.6            1.0             1.0  ...        12.7   \n",
              "2              0.8            1.0             1.0  ...        15.8   \n",
              "3              1.5            1.0             1.0  ...        14.7   \n",
              "4              1.0            1.0             1.0  ...        12.5   \n",
              "\n",
              "   Urine protein  serum creatinine   AST   ALT   Gtp  oral  dental caries  \\\n",
              "0            1.0               0.7  18.0  19.0  27.0     1              0   \n",
              "1            1.0               0.6  22.0  19.0  18.0     1              0   \n",
              "2            1.0               1.0  21.0  16.0  22.0     1              0   \n",
              "3            1.0               1.0  19.0  26.0  18.0     1              0   \n",
              "4            1.0               0.6  16.0  14.0  22.0     1              0   \n",
              "\n",
              "   tartar  smoking  \n",
              "0       1        0  \n",
              "1       1        0  \n",
              "2       0        1  \n",
              "3       1        0  \n",
              "4       0        0  \n",
              "\n",
              "[5 rows x 27 columns]"
            ],
            "text/html": [
              "\n",
              "  <div id=\"df-8d6d3c63-ee8b-4b53-986a-c049d13d89ac\">\n",
              "    <div class=\"colab-df-container\">\n",
              "      <div>\n",
              "<style scoped>\n",
              "    .dataframe tbody tr th:only-of-type {\n",
              "        vertical-align: middle;\n",
              "    }\n",
              "\n",
              "    .dataframe tbody tr th {\n",
              "        vertical-align: top;\n",
              "    }\n",
              "\n",
              "    .dataframe thead th {\n",
              "        text-align: right;\n",
              "    }\n",
              "</style>\n",
              "<table border=\"1\" class=\"dataframe\">\n",
              "  <thead>\n",
              "    <tr style=\"text-align: right;\">\n",
              "      <th></th>\n",
              "      <th>ID</th>\n",
              "      <th>gender</th>\n",
              "      <th>age</th>\n",
              "      <th>height(cm)</th>\n",
              "      <th>weight(kg)</th>\n",
              "      <th>waist(cm)</th>\n",
              "      <th>eyesight(left)</th>\n",
              "      <th>eyesight(right)</th>\n",
              "      <th>hearing(left)</th>\n",
              "      <th>hearing(right)</th>\n",
              "      <th>...</th>\n",
              "      <th>hemoglobin</th>\n",
              "      <th>Urine protein</th>\n",
              "      <th>serum creatinine</th>\n",
              "      <th>AST</th>\n",
              "      <th>ALT</th>\n",
              "      <th>Gtp</th>\n",
              "      <th>oral</th>\n",
              "      <th>dental caries</th>\n",
              "      <th>tartar</th>\n",
              "      <th>smoking</th>\n",
              "    </tr>\n",
              "  </thead>\n",
              "  <tbody>\n",
              "    <tr>\n",
              "      <th>0</th>\n",
              "      <td>0</td>\n",
              "      <td>F</td>\n",
              "      <td>40</td>\n",
              "      <td>155</td>\n",
              "      <td>60</td>\n",
              "      <td>81.3</td>\n",
              "      <td>1.2</td>\n",
              "      <td>1.0</td>\n",
              "      <td>1.0</td>\n",
              "      <td>1.0</td>\n",
              "      <td>...</td>\n",
              "      <td>12.9</td>\n",
              "      <td>1.0</td>\n",
              "      <td>0.7</td>\n",
              "      <td>18.0</td>\n",
              "      <td>19.0</td>\n",
              "      <td>27.0</td>\n",
              "      <td>1</td>\n",
              "      <td>0</td>\n",
              "      <td>1</td>\n",
              "      <td>0</td>\n",
              "    </tr>\n",
              "    <tr>\n",
              "      <th>1</th>\n",
              "      <td>1</td>\n",
              "      <td>F</td>\n",
              "      <td>40</td>\n",
              "      <td>160</td>\n",
              "      <td>60</td>\n",
              "      <td>81.0</td>\n",
              "      <td>0.8</td>\n",
              "      <td>0.6</td>\n",
              "      <td>1.0</td>\n",
              "      <td>1.0</td>\n",
              "      <td>...</td>\n",
              "      <td>12.7</td>\n",
              "      <td>1.0</td>\n",
              "      <td>0.6</td>\n",
              "      <td>22.0</td>\n",
              "      <td>19.0</td>\n",
              "      <td>18.0</td>\n",
              "      <td>1</td>\n",
              "      <td>0</td>\n",
              "      <td>1</td>\n",
              "      <td>0</td>\n",
              "    </tr>\n",
              "    <tr>\n",
              "      <th>2</th>\n",
              "      <td>2</td>\n",
              "      <td>M</td>\n",
              "      <td>55</td>\n",
              "      <td>170</td>\n",
              "      <td>60</td>\n",
              "      <td>80.0</td>\n",
              "      <td>0.8</td>\n",
              "      <td>0.8</td>\n",
              "      <td>1.0</td>\n",
              "      <td>1.0</td>\n",
              "      <td>...</td>\n",
              "      <td>15.8</td>\n",
              "      <td>1.0</td>\n",
              "      <td>1.0</td>\n",
              "      <td>21.0</td>\n",
              "      <td>16.0</td>\n",
              "      <td>22.0</td>\n",
              "      <td>1</td>\n",
              "      <td>0</td>\n",
              "      <td>0</td>\n",
              "      <td>1</td>\n",
              "    </tr>\n",
              "    <tr>\n",
              "      <th>3</th>\n",
              "      <td>3</td>\n",
              "      <td>M</td>\n",
              "      <td>40</td>\n",
              "      <td>165</td>\n",
              "      <td>70</td>\n",
              "      <td>88.0</td>\n",
              "      <td>1.5</td>\n",
              "      <td>1.5</td>\n",
              "      <td>1.0</td>\n",
              "      <td>1.0</td>\n",
              "      <td>...</td>\n",
              "      <td>14.7</td>\n",
              "      <td>1.0</td>\n",
              "      <td>1.0</td>\n",
              "      <td>19.0</td>\n",
              "      <td>26.0</td>\n",
              "      <td>18.0</td>\n",
              "      <td>1</td>\n",
              "      <td>0</td>\n",
              "      <td>1</td>\n",
              "      <td>0</td>\n",
              "    </tr>\n",
              "    <tr>\n",
              "      <th>4</th>\n",
              "      <td>4</td>\n",
              "      <td>F</td>\n",
              "      <td>40</td>\n",
              "      <td>155</td>\n",
              "      <td>60</td>\n",
              "      <td>86.0</td>\n",
              "      <td>1.0</td>\n",
              "      <td>1.0</td>\n",
              "      <td>1.0</td>\n",
              "      <td>1.0</td>\n",
              "      <td>...</td>\n",
              "      <td>12.5</td>\n",
              "      <td>1.0</td>\n",
              "      <td>0.6</td>\n",
              "      <td>16.0</td>\n",
              "      <td>14.0</td>\n",
              "      <td>22.0</td>\n",
              "      <td>1</td>\n",
              "      <td>0</td>\n",
              "      <td>0</td>\n",
              "      <td>0</td>\n",
              "    </tr>\n",
              "  </tbody>\n",
              "</table>\n",
              "<p>5 rows × 27 columns</p>\n",
              "</div>\n",
              "      <button class=\"colab-df-convert\" onclick=\"convertToInteractive('df-8d6d3c63-ee8b-4b53-986a-c049d13d89ac')\"\n",
              "              title=\"Convert this dataframe to an interactive table.\"\n",
              "              style=\"display:none;\">\n",
              "        \n",
              "  <svg xmlns=\"http://www.w3.org/2000/svg\" height=\"24px\"viewBox=\"0 0 24 24\"\n",
              "       width=\"24px\">\n",
              "    <path d=\"M0 0h24v24H0V0z\" fill=\"none\"/>\n",
              "    <path d=\"M18.56 5.44l.94 2.06.94-2.06 2.06-.94-2.06-.94-.94-2.06-.94 2.06-2.06.94zm-11 1L8.5 8.5l.94-2.06 2.06-.94-2.06-.94L8.5 2.5l-.94 2.06-2.06.94zm10 10l.94 2.06.94-2.06 2.06-.94-2.06-.94-.94-2.06-.94 2.06-2.06.94z\"/><path d=\"M17.41 7.96l-1.37-1.37c-.4-.4-.92-.59-1.43-.59-.52 0-1.04.2-1.43.59L10.3 9.45l-7.72 7.72c-.78.78-.78 2.05 0 2.83L4 21.41c.39.39.9.59 1.41.59.51 0 1.02-.2 1.41-.59l7.78-7.78 2.81-2.81c.8-.78.8-2.07 0-2.86zM5.41 20L4 18.59l7.72-7.72 1.47 1.35L5.41 20z\"/>\n",
              "  </svg>\n",
              "      </button>\n",
              "      \n",
              "  <style>\n",
              "    .colab-df-container {\n",
              "      display:flex;\n",
              "      flex-wrap:wrap;\n",
              "      gap: 12px;\n",
              "    }\n",
              "\n",
              "    .colab-df-convert {\n",
              "      background-color: #E8F0FE;\n",
              "      border: none;\n",
              "      border-radius: 50%;\n",
              "      cursor: pointer;\n",
              "      display: none;\n",
              "      fill: #1967D2;\n",
              "      height: 32px;\n",
              "      padding: 0 0 0 0;\n",
              "      width: 32px;\n",
              "    }\n",
              "\n",
              "    .colab-df-convert:hover {\n",
              "      background-color: #E2EBFA;\n",
              "      box-shadow: 0px 1px 2px rgba(60, 64, 67, 0.3), 0px 1px 3px 1px rgba(60, 64, 67, 0.15);\n",
              "      fill: #174EA6;\n",
              "    }\n",
              "\n",
              "    [theme=dark] .colab-df-convert {\n",
              "      background-color: #3B4455;\n",
              "      fill: #D2E3FC;\n",
              "    }\n",
              "\n",
              "    [theme=dark] .colab-df-convert:hover {\n",
              "      background-color: #434B5C;\n",
              "      box-shadow: 0px 1px 3px 1px rgba(0, 0, 0, 0.15);\n",
              "      filter: drop-shadow(0px 1px 2px rgba(0, 0, 0, 0.3));\n",
              "      fill: #FFFFFF;\n",
              "    }\n",
              "  </style>\n",
              "\n",
              "      <script>\n",
              "        const buttonEl =\n",
              "          document.querySelector('#df-8d6d3c63-ee8b-4b53-986a-c049d13d89ac button.colab-df-convert');\n",
              "        buttonEl.style.display =\n",
              "          google.colab.kernel.accessAllowed ? 'block' : 'none';\n",
              "\n",
              "        async function convertToInteractive(key) {\n",
              "          const element = document.querySelector('#df-8d6d3c63-ee8b-4b53-986a-c049d13d89ac');\n",
              "          const dataTable =\n",
              "            await google.colab.kernel.invokeFunction('convertToInteractive',\n",
              "                                                     [key], {});\n",
              "          if (!dataTable) return;\n",
              "\n",
              "          const docLinkHtml = 'Like what you see? Visit the ' +\n",
              "            '<a target=\"_blank\" href=https://colab.research.google.com/notebooks/data_table.ipynb>data table notebook</a>'\n",
              "            + ' to learn more about interactive tables.';\n",
              "          element.innerHTML = '';\n",
              "          dataTable['output_type'] = 'display_data';\n",
              "          await google.colab.output.renderOutput(dataTable, element);\n",
              "          const docLink = document.createElement('div');\n",
              "          docLink.innerHTML = docLinkHtml;\n",
              "          element.appendChild(docLink);\n",
              "        }\n",
              "      </script>\n",
              "    </div>\n",
              "  </div>\n",
              "  "
            ]
          },
          "metadata": {},
          "execution_count": 55
        }
      ]
    },
    {
      "cell_type": "code",
      "source": [
        "df.columns"
      ],
      "metadata": {
        "colab": {
          "base_uri": "https://localhost:8080/"
        },
        "id": "_qt-QV7I9YYo",
        "outputId": "c3a3f655-4b26-41b4-cf0e-a4f8306d51fb"
      },
      "execution_count": 75,
      "outputs": [
        {
          "output_type": "execute_result",
          "data": {
            "text/plain": [
              "Index(['ID', 'gender', 'age', 'height(cm)', 'weight(kg)', 'waist(cm)',\n",
              "       'eyesight(left)', 'eyesight(right)', 'hearing(left)', 'hearing(right)',\n",
              "       'systolic', 'relaxation', 'fasting blood sugar', 'Cholesterol',\n",
              "       'triglyceride', 'HDL', 'LDL', 'hemoglobin', 'Urine protein',\n",
              "       'serum creatinine', 'AST', 'ALT', 'Gtp', 'oral', 'dental caries',\n",
              "       'tartar', 'smoking'],\n",
              "      dtype='object')"
            ]
          },
          "metadata": {},
          "execution_count": 75
        }
      ]
    },
    {
      "cell_type": "code",
      "source": [
        "X=df.iloc[:,1:-1].values\n",
        "y=df.iloc[:,-1].values"
      ],
      "metadata": {
        "id": "xWZCJs0EytME"
      },
      "execution_count": 56,
      "outputs": []
    },
    {
      "cell_type": "code",
      "source": [
        "X"
      ],
      "metadata": {
        "colab": {
          "base_uri": "https://localhost:8080/"
        },
        "id": "k6QbNBep0YTt",
        "outputId": "ba9d9a3c-2efe-40cb-f83a-2d1f3e91d888"
      },
      "execution_count": 43,
      "outputs": [
        {
          "output_type": "execute_result",
          "data": {
            "text/plain": [
              "array([['F', 40, 155, ..., 'Y', 0, 'Y'],\n",
              "       ['F', 40, 160, ..., 'Y', 0, 'Y'],\n",
              "       ['M', 55, 170, ..., 'Y', 0, 'N'],\n",
              "       ...,\n",
              "       ['F', 55, 160, ..., 'Y', 0, 'N'],\n",
              "       ['M', 60, 165, ..., 'Y', 0, 'N'],\n",
              "       ['M', 55, 160, ..., 'Y', 0, 'Y']], dtype=object)"
            ]
          },
          "metadata": {},
          "execution_count": 43
        }
      ]
    },
    {
      "cell_type": "markdown",
      "metadata": {
        "id": "N6bQ0UgSU-NJ"
      },
      "source": [
        "### Encoding categorical data"
      ]
    },
    {
      "cell_type": "markdown",
      "metadata": {
        "id": "le5MJreAbW52"
      },
      "source": [
        "Label Encoding the \"Gender\" column"
      ]
    },
    {
      "cell_type": "code",
      "source": [
        "from sklearn.preprocessing import LabelEncoder\n",
        "le=LabelEncoder()\n",
        "X[:,0]=le.fit_transform(X[:,0])"
      ],
      "metadata": {
        "id": "GUDD_kBBaCon"
      },
      "execution_count": 57,
      "outputs": []
    },
    {
      "cell_type": "code",
      "source": [
        "X.shape"
      ],
      "metadata": {
        "colab": {
          "base_uri": "https://localhost:8080/"
        },
        "id": "rutyj6eGahk2",
        "outputId": "6935f2e5-d08d-4ebc-f95b-05d24cc9ef0c"
      },
      "execution_count": 74,
      "outputs": [
        {
          "output_type": "execute_result",
          "data": {
            "text/plain": [
              "(55692, 25)"
            ]
          },
          "metadata": {},
          "execution_count": 74
        }
      ]
    },
    {
      "cell_type": "markdown",
      "metadata": {
        "id": "vHol938cW8zd"
      },
      "source": [
        "### Splitting the dataset into the Training set and Test set"
      ]
    },
    {
      "cell_type": "code",
      "source": [
        "from sklearn.model_selection import train_test_split\n",
        "X_train, X_test, y_train, y_test = train_test_split(X, y, test_size = 0.2, random_state = 0)"
      ],
      "metadata": {
        "id": "ejiamkDpbSNl"
      },
      "execution_count": 59,
      "outputs": []
    },
    {
      "cell_type": "code",
      "source": [
        "X_test"
      ],
      "metadata": {
        "colab": {
          "base_uri": "https://localhost:8080/"
        },
        "id": "qGtZr89854Wq",
        "outputId": "72ddfc8a-68b6-4c54-931f-7c87fe6a67bf"
      },
      "execution_count": 60,
      "outputs": [
        {
          "output_type": "execute_result",
          "data": {
            "text/plain": [
              "array([[1, 60, 155, ..., 1, 0, 1],\n",
              "       [1, 40, 175, ..., 1, 0, 1],\n",
              "       [1, 25, 170, ..., 1, 0, 0],\n",
              "       ...,\n",
              "       [1, 30, 165, ..., 1, 0, 0],\n",
              "       [1, 45, 175, ..., 1, 1, 1],\n",
              "       [1, 40, 160, ..., 1, 0, 1]], dtype=object)"
            ]
          },
          "metadata": {},
          "execution_count": 60
        }
      ]
    },
    {
      "cell_type": "markdown",
      "metadata": {
        "id": "RE_FcHyfV3TQ"
      },
      "source": [
        "### Feature Scaling"
      ]
    },
    {
      "cell_type": "code",
      "source": [
        "from sklearn.preprocessing import StandardScaler\n",
        "sc=StandardScaler()\n",
        "X_train=sc.fit_transform(X_train)\n",
        "X_test=sc.transform(X_test)"
      ],
      "metadata": {
        "id": "jQU8uLZtbWEx"
      },
      "execution_count": 61,
      "outputs": []
    },
    {
      "cell_type": "code",
      "source": [
        "X_train.shape"
      ],
      "metadata": {
        "colab": {
          "base_uri": "https://localhost:8080/"
        },
        "id": "1Hz-18sp6BU3",
        "outputId": "d53191da-02e8-44af-ad82-b852574b0036"
      },
      "execution_count": 73,
      "outputs": [
        {
          "output_type": "execute_result",
          "data": {
            "text/plain": [
              "(44553, 25)"
            ]
          },
          "metadata": {},
          "execution_count": 73
        }
      ]
    },
    {
      "cell_type": "markdown",
      "metadata": {
        "id": "-zfEzkRVXIwF"
      },
      "source": [
        "## Part 2 - Building the ANN"
      ]
    },
    {
      "cell_type": "markdown",
      "metadata": {
        "id": "KvdeScabXtlB"
      },
      "source": [
        "### Initializing the ANN"
      ]
    },
    {
      "cell_type": "code",
      "source": [
        "ann=tf.keras.models.Sequential()"
      ],
      "metadata": {
        "id": "74xTCy3QfWhm"
      },
      "execution_count": 63,
      "outputs": []
    },
    {
      "cell_type": "markdown",
      "metadata": {
        "id": "rP6urV6SX7kS"
      },
      "source": [
        "### Adding the input layer and the first hidden layer"
      ]
    },
    {
      "cell_type": "code",
      "source": [
        "ann.add(tf.keras.layers.Dense(units=6,activation='relu'))"
      ],
      "metadata": {
        "id": "VWKLeyFFfg2G"
      },
      "execution_count": 64,
      "outputs": []
    },
    {
      "cell_type": "markdown",
      "metadata": {
        "id": "BELWAc_8YJze"
      },
      "source": [
        "### Adding the second hidden layer"
      ]
    },
    {
      "cell_type": "code",
      "source": [
        "ann.add(tf.keras.layers.Dense(units=6,activation='relu'))"
      ],
      "metadata": {
        "id": "YZZc8HS5Nuj0"
      },
      "execution_count": 65,
      "outputs": []
    },
    {
      "cell_type": "markdown",
      "metadata": {
        "id": "OyNEe6RXYcU4"
      },
      "source": [
        "### Adding the output layer"
      ]
    },
    {
      "cell_type": "code",
      "source": [
        "ann.add(tf.keras.layers.Dense(units=1,activation='sigmoid'))"
      ],
      "metadata": {
        "id": "TN0el01_NwpE"
      },
      "execution_count": 66,
      "outputs": []
    },
    {
      "cell_type": "markdown",
      "metadata": {
        "id": "JT4u2S1_Y4WG"
      },
      "source": [
        "## Part 3 - Training the ANN"
      ]
    },
    {
      "cell_type": "markdown",
      "metadata": {
        "id": "8GWlJChhY_ZI"
      },
      "source": [
        "### Compiling the ANN"
      ]
    },
    {
      "cell_type": "code",
      "source": [
        "ann.compile(optimizer='adam',loss='binary_crossentropy', metrics=['accuracy'])"
      ],
      "metadata": {
        "id": "-EnnrCQnRlvX"
      },
      "execution_count": 67,
      "outputs": []
    },
    {
      "cell_type": "markdown",
      "metadata": {
        "id": "0QR_G5u7ZLSM"
      },
      "source": [
        "### Training the ANN on the Training set"
      ]
    },
    {
      "cell_type": "code",
      "source": [
        "ann.fit(X_train,y_train,batch_size=32,epochs=100)"
      ],
      "metadata": {
        "colab": {
          "base_uri": "https://localhost:8080/"
        },
        "id": "FDPCWnlFSAXl",
        "outputId": "f43f4d5e-29a0-497e-d32a-7ff1b7a1e03f"
      },
      "execution_count": 68,
      "outputs": [
        {
          "output_type": "stream",
          "name": "stdout",
          "text": [
            "Epoch 1/100\n",
            "1393/1393 [==============================] - 3s 2ms/step - loss: 0.5079 - accuracy: 0.7194\n",
            "Epoch 2/100\n",
            "1393/1393 [==============================] - 2s 2ms/step - loss: 0.4718 - accuracy: 0.7499\n",
            "Epoch 3/100\n",
            "1393/1393 [==============================] - 3s 2ms/step - loss: 0.4661 - accuracy: 0.7542\n",
            "Epoch 4/100\n",
            "1393/1393 [==============================] - 2s 2ms/step - loss: 0.4633 - accuracy: 0.7571\n",
            "Epoch 5/100\n",
            "1393/1393 [==============================] - 2s 2ms/step - loss: 0.4614 - accuracy: 0.7581\n",
            "Epoch 6/100\n",
            "1393/1393 [==============================] - 2s 2ms/step - loss: 0.4602 - accuracy: 0.7593\n",
            "Epoch 7/100\n",
            "1393/1393 [==============================] - 2s 2ms/step - loss: 0.4595 - accuracy: 0.7597\n",
            "Epoch 8/100\n",
            "1393/1393 [==============================] - 2s 2ms/step - loss: 0.4588 - accuracy: 0.7609\n",
            "Epoch 9/100\n",
            "1393/1393 [==============================] - 3s 2ms/step - loss: 0.4583 - accuracy: 0.7615\n",
            "Epoch 10/100\n",
            "1393/1393 [==============================] - 2s 2ms/step - loss: 0.4578 - accuracy: 0.7616\n",
            "Epoch 11/100\n",
            "1393/1393 [==============================] - 2s 2ms/step - loss: 0.4574 - accuracy: 0.7615\n",
            "Epoch 12/100\n",
            "1393/1393 [==============================] - 2s 2ms/step - loss: 0.4570 - accuracy: 0.7626\n",
            "Epoch 13/100\n",
            "1393/1393 [==============================] - 2s 2ms/step - loss: 0.4569 - accuracy: 0.7612\n",
            "Epoch 14/100\n",
            "1393/1393 [==============================] - 3s 2ms/step - loss: 0.4566 - accuracy: 0.7619\n",
            "Epoch 15/100\n",
            "1393/1393 [==============================] - 3s 2ms/step - loss: 0.4564 - accuracy: 0.7616\n",
            "Epoch 16/100\n",
            "1393/1393 [==============================] - 2s 2ms/step - loss: 0.4562 - accuracy: 0.7619\n",
            "Epoch 17/100\n",
            "1393/1393 [==============================] - 2s 2ms/step - loss: 0.4563 - accuracy: 0.7621\n",
            "Epoch 18/100\n",
            "1393/1393 [==============================] - 2s 2ms/step - loss: 0.4559 - accuracy: 0.7630\n",
            "Epoch 19/100\n",
            "1393/1393 [==============================] - 2s 2ms/step - loss: 0.4558 - accuracy: 0.7632\n",
            "Epoch 20/100\n",
            "1393/1393 [==============================] - 3s 2ms/step - loss: 0.4556 - accuracy: 0.7635\n",
            "Epoch 21/100\n",
            "1393/1393 [==============================] - 2s 2ms/step - loss: 0.4556 - accuracy: 0.7630\n",
            "Epoch 22/100\n",
            "1393/1393 [==============================] - 2s 2ms/step - loss: 0.4555 - accuracy: 0.7632\n",
            "Epoch 23/100\n",
            "1393/1393 [==============================] - 2s 2ms/step - loss: 0.4552 - accuracy: 0.7626\n",
            "Epoch 24/100\n",
            "1393/1393 [==============================] - 2s 2ms/step - loss: 0.4553 - accuracy: 0.7625\n",
            "Epoch 25/100\n",
            "1393/1393 [==============================] - 3s 2ms/step - loss: 0.4552 - accuracy: 0.7619\n",
            "Epoch 26/100\n",
            "1393/1393 [==============================] - 3s 2ms/step - loss: 0.4552 - accuracy: 0.7634\n",
            "Epoch 27/100\n",
            "1393/1393 [==============================] - 2s 2ms/step - loss: 0.4551 - accuracy: 0.7631\n",
            "Epoch 28/100\n",
            "1393/1393 [==============================] - 2s 2ms/step - loss: 0.4548 - accuracy: 0.7623\n",
            "Epoch 29/100\n",
            "1393/1393 [==============================] - 2s 2ms/step - loss: 0.4548 - accuracy: 0.7633\n",
            "Epoch 30/100\n",
            "1393/1393 [==============================] - 2s 2ms/step - loss: 0.4547 - accuracy: 0.7633\n",
            "Epoch 31/100\n",
            "1393/1393 [==============================] - 3s 2ms/step - loss: 0.4546 - accuracy: 0.7630\n",
            "Epoch 32/100\n",
            "1393/1393 [==============================] - 2s 2ms/step - loss: 0.4547 - accuracy: 0.7630\n",
            "Epoch 33/100\n",
            "1393/1393 [==============================] - 2s 2ms/step - loss: 0.4548 - accuracy: 0.7630\n",
            "Epoch 34/100\n",
            "1393/1393 [==============================] - 2s 2ms/step - loss: 0.4545 - accuracy: 0.7636\n",
            "Epoch 35/100\n",
            "1393/1393 [==============================] - 2s 2ms/step - loss: 0.4543 - accuracy: 0.7624\n",
            "Epoch 36/100\n",
            "1393/1393 [==============================] - 3s 2ms/step - loss: 0.4542 - accuracy: 0.7634\n",
            "Epoch 37/100\n",
            "1393/1393 [==============================] - 3s 2ms/step - loss: 0.4542 - accuracy: 0.7632\n",
            "Epoch 38/100\n",
            "1393/1393 [==============================] - 2s 2ms/step - loss: 0.4544 - accuracy: 0.7619\n",
            "Epoch 39/100\n",
            "1393/1393 [==============================] - 2s 2ms/step - loss: 0.4543 - accuracy: 0.7624\n",
            "Epoch 40/100\n",
            "1393/1393 [==============================] - 2s 2ms/step - loss: 0.4541 - accuracy: 0.7636\n",
            "Epoch 41/100\n",
            "1393/1393 [==============================] - 2s 2ms/step - loss: 0.4541 - accuracy: 0.7628\n",
            "Epoch 42/100\n",
            "1393/1393 [==============================] - 3s 2ms/step - loss: 0.4537 - accuracy: 0.7620\n",
            "Epoch 43/100\n",
            "1393/1393 [==============================] - 2s 2ms/step - loss: 0.4539 - accuracy: 0.7625\n",
            "Epoch 44/100\n",
            "1393/1393 [==============================] - 3s 2ms/step - loss: 0.4538 - accuracy: 0.7628\n",
            "Epoch 45/100\n",
            "1393/1393 [==============================] - 3s 2ms/step - loss: 0.4539 - accuracy: 0.7623\n",
            "Epoch 46/100\n",
            "1393/1393 [==============================] - 4s 3ms/step - loss: 0.4535 - accuracy: 0.7618\n",
            "Epoch 47/100\n",
            "1393/1393 [==============================] - 3s 2ms/step - loss: 0.4538 - accuracy: 0.7625\n",
            "Epoch 48/100\n",
            "1393/1393 [==============================] - 4s 3ms/step - loss: 0.4537 - accuracy: 0.7631\n",
            "Epoch 49/100\n",
            "1393/1393 [==============================] - 3s 2ms/step - loss: 0.4537 - accuracy: 0.7622\n",
            "Epoch 50/100\n",
            "1393/1393 [==============================] - 3s 2ms/step - loss: 0.4535 - accuracy: 0.7627\n",
            "Epoch 51/100\n",
            "1393/1393 [==============================] - 2s 2ms/step - loss: 0.4534 - accuracy: 0.7624\n",
            "Epoch 52/100\n",
            "1393/1393 [==============================] - 2s 2ms/step - loss: 0.4535 - accuracy: 0.7624\n",
            "Epoch 53/100\n",
            "1393/1393 [==============================] - 2s 2ms/step - loss: 0.4534 - accuracy: 0.7623\n",
            "Epoch 54/100\n",
            "1393/1393 [==============================] - 2s 2ms/step - loss: 0.4534 - accuracy: 0.7635\n",
            "Epoch 55/100\n",
            "1393/1393 [==============================] - 2s 2ms/step - loss: 0.4532 - accuracy: 0.7621\n",
            "Epoch 56/100\n",
            "1393/1393 [==============================] - 3s 2ms/step - loss: 0.4532 - accuracy: 0.7641\n",
            "Epoch 57/100\n",
            "1393/1393 [==============================] - 2s 2ms/step - loss: 0.4531 - accuracy: 0.7633\n",
            "Epoch 58/100\n",
            "1393/1393 [==============================] - 2s 2ms/step - loss: 0.4532 - accuracy: 0.7635\n",
            "Epoch 59/100\n",
            "1393/1393 [==============================] - 2s 2ms/step - loss: 0.4532 - accuracy: 0.7626\n",
            "Epoch 60/100\n",
            "1393/1393 [==============================] - 2s 2ms/step - loss: 0.4531 - accuracy: 0.7637\n",
            "Epoch 61/100\n",
            "1393/1393 [==============================] - 3s 2ms/step - loss: 0.4532 - accuracy: 0.7631\n",
            "Epoch 62/100\n",
            "1393/1393 [==============================] - 2s 2ms/step - loss: 0.4531 - accuracy: 0.7627\n",
            "Epoch 63/100\n",
            "1393/1393 [==============================] - 2s 2ms/step - loss: 0.4531 - accuracy: 0.7632\n",
            "Epoch 64/100\n",
            "1393/1393 [==============================] - 2s 2ms/step - loss: 0.4530 - accuracy: 0.7630\n",
            "Epoch 65/100\n",
            "1393/1393 [==============================] - 2s 2ms/step - loss: 0.4529 - accuracy: 0.7624\n",
            "Epoch 66/100\n",
            "1393/1393 [==============================] - 2s 2ms/step - loss: 0.4528 - accuracy: 0.7635\n",
            "Epoch 67/100\n",
            "1393/1393 [==============================] - 3s 2ms/step - loss: 0.4528 - accuracy: 0.7632\n",
            "Epoch 68/100\n",
            "1393/1393 [==============================] - 2s 2ms/step - loss: 0.4527 - accuracy: 0.7636\n",
            "Epoch 69/100\n",
            "1393/1393 [==============================] - 2s 2ms/step - loss: 0.4528 - accuracy: 0.7625\n",
            "Epoch 70/100\n",
            "1393/1393 [==============================] - 2s 2ms/step - loss: 0.4526 - accuracy: 0.7638\n",
            "Epoch 71/100\n",
            "1393/1393 [==============================] - 2s 2ms/step - loss: 0.4526 - accuracy: 0.7639\n",
            "Epoch 72/100\n",
            "1393/1393 [==============================] - 3s 2ms/step - loss: 0.4526 - accuracy: 0.7628\n",
            "Epoch 73/100\n",
            "1393/1393 [==============================] - 2s 2ms/step - loss: 0.4525 - accuracy: 0.7626\n",
            "Epoch 74/100\n",
            "1393/1393 [==============================] - 2s 2ms/step - loss: 0.4526 - accuracy: 0.7635\n",
            "Epoch 75/100\n",
            "1393/1393 [==============================] - 2s 2ms/step - loss: 0.4527 - accuracy: 0.7639\n",
            "Epoch 76/100\n",
            "1393/1393 [==============================] - 2s 2ms/step - loss: 0.4524 - accuracy: 0.7636\n",
            "Epoch 77/100\n",
            "1393/1393 [==============================] - 3s 2ms/step - loss: 0.4526 - accuracy: 0.7634\n",
            "Epoch 78/100\n",
            "1393/1393 [==============================] - 3s 2ms/step - loss: 0.4524 - accuracy: 0.7633\n",
            "Epoch 79/100\n",
            "1393/1393 [==============================] - 3s 2ms/step - loss: 0.4526 - accuracy: 0.7631\n",
            "Epoch 80/100\n",
            "1393/1393 [==============================] - 4s 3ms/step - loss: 0.4525 - accuracy: 0.7633\n",
            "Epoch 81/100\n",
            "1393/1393 [==============================] - 3s 2ms/step - loss: 0.4524 - accuracy: 0.7640\n",
            "Epoch 82/100\n",
            "1393/1393 [==============================] - 3s 2ms/step - loss: 0.4523 - accuracy: 0.7633\n",
            "Epoch 83/100\n",
            "1393/1393 [==============================] - 2s 2ms/step - loss: 0.4524 - accuracy: 0.7628\n",
            "Epoch 84/100\n",
            "1393/1393 [==============================] - 2s 2ms/step - loss: 0.4525 - accuracy: 0.7628\n",
            "Epoch 85/100\n",
            "1393/1393 [==============================] - 2s 2ms/step - loss: 0.4523 - accuracy: 0.7649\n",
            "Epoch 86/100\n",
            "1393/1393 [==============================] - 2s 2ms/step - loss: 0.4523 - accuracy: 0.7632\n",
            "Epoch 87/100\n",
            "1393/1393 [==============================] - 3s 2ms/step - loss: 0.4521 - accuracy: 0.7631\n",
            "Epoch 88/100\n",
            "1393/1393 [==============================] - 3s 2ms/step - loss: 0.4522 - accuracy: 0.7631\n",
            "Epoch 89/100\n",
            "1393/1393 [==============================] - 2s 2ms/step - loss: 0.4523 - accuracy: 0.7639\n",
            "Epoch 90/100\n",
            "1393/1393 [==============================] - 2s 2ms/step - loss: 0.4523 - accuracy: 0.7627\n",
            "Epoch 91/100\n",
            "1393/1393 [==============================] - 2s 2ms/step - loss: 0.4522 - accuracy: 0.7637\n",
            "Epoch 92/100\n",
            "1393/1393 [==============================] - 2s 2ms/step - loss: 0.4522 - accuracy: 0.7636\n",
            "Epoch 93/100\n",
            "1393/1393 [==============================] - 3s 2ms/step - loss: 0.4522 - accuracy: 0.7635\n",
            "Epoch 94/100\n",
            "1393/1393 [==============================] - 2s 2ms/step - loss: 0.4523 - accuracy: 0.7631\n",
            "Epoch 95/100\n",
            "1393/1393 [==============================] - 2s 2ms/step - loss: 0.4519 - accuracy: 0.7626\n",
            "Epoch 96/100\n",
            "1393/1393 [==============================] - 2s 2ms/step - loss: 0.4523 - accuracy: 0.7627\n",
            "Epoch 97/100\n",
            "1393/1393 [==============================] - 2s 2ms/step - loss: 0.4522 - accuracy: 0.7633\n",
            "Epoch 98/100\n",
            "1393/1393 [==============================] - 3s 2ms/step - loss: 0.4523 - accuracy: 0.7634\n",
            "Epoch 99/100\n",
            "1393/1393 [==============================] - 2s 2ms/step - loss: 0.4522 - accuracy: 0.7643\n",
            "Epoch 100/100\n",
            "1393/1393 [==============================] - 2s 2ms/step - loss: 0.4522 - accuracy: 0.7632\n"
          ]
        },
        {
          "output_type": "execute_result",
          "data": {
            "text/plain": [
              "<keras.callbacks.History at 0x7f9c100ebeb0>"
            ]
          },
          "metadata": {},
          "execution_count": 68
        }
      ]
    },
    {
      "cell_type": "markdown",
      "metadata": {
        "id": "tJj5k2MxZga3"
      },
      "source": [
        "## Part 4 - Making the predictions and evaluating the model"
      ]
    },
    {
      "cell_type": "markdown",
      "metadata": {
        "id": "84QFoqGYeXHL"
      },
      "source": [
        "### Predicting the result of a single observation"
      ]
    },
    {
      "cell_type": "markdown",
      "source": [
        "Let's predict this persons information which is second in our dataset"
      ],
      "metadata": {
        "id": "eDX19iG4A9_L"
      }
    },
    {
      "cell_type": "code",
      "source": [
        "pd.set_option('display.max_columns', None)\n",
        "pd.set_option('display.max_rows', None)\n",
        "print(df.iloc[[2]])"
      ],
      "metadata": {
        "colab": {
          "base_uri": "https://localhost:8080/"
        },
        "id": "dl7W6JVpA70P",
        "outputId": "718d4b7a-61f0-4ed2-9eb2-da11e3ffe34b"
      },
      "execution_count": 87,
      "outputs": [
        {
          "output_type": "stream",
          "name": "stdout",
          "text": [
            "   ID gender  age  height(cm)  weight(kg)  waist(cm)  eyesight(left)  \\\n",
            "2   2      M   55         170          60       80.0             0.8   \n",
            "\n",
            "   eyesight(right)  hearing(left)  hearing(right)  systolic  relaxation  \\\n",
            "2              0.8            1.0             1.0     138.0        86.0   \n",
            "\n",
            "   fasting blood sugar  Cholesterol  triglyceride   HDL    LDL  hemoglobin  \\\n",
            "2                 89.0        242.0         182.0  55.0  151.0        15.8   \n",
            "\n",
            "   Urine protein  serum creatinine   AST   ALT   Gtp  oral  dental caries  \\\n",
            "2            1.0               1.0  21.0  16.0  22.0     1              0   \n",
            "\n",
            "   tartar  smoking  \n",
            "2       0        1  \n"
          ]
        }
      ]
    },
    {
      "cell_type": "code",
      "source": [
        "print(ann.predict(sc.transform([[1,55,170,60,80.0,0.8,0.8,1.0,1.0,138.0,86.0,89.0,242.0,182.0,55.0,151.0,15.8,1.0,1.0,21.0,16.0,22.0,1,0,0]])))"
      ],
      "metadata": {
        "colab": {
          "base_uri": "https://localhost:8080/"
        },
        "id": "BDJ6Hw3BWuni",
        "outputId": "781d2e42-6291-4bff-9b59-02f80c972dd5"
      },
      "execution_count": 81,
      "outputs": [
        {
          "output_type": "stream",
          "name": "stdout",
          "text": [
            "1/1 [==============================] - 0s 32ms/step\n",
            "[[0.5982854]]\n"
          ]
        }
      ]
    },
    {
      "cell_type": "code",
      "source": [
        "print(ann.predict(sc.transform([[1,55,170,60,80.0,0.8,0.8,1.0,1.0,138.0,86.0,89.0,242.0,182.0,55.0,151.0,15.8,1.0,1.0,21.0,16.0,22.0,1,0,0]]))>0.5)"
      ],
      "metadata": {
        "colab": {
          "base_uri": "https://localhost:8080/"
        },
        "id": "t0AoynvPALAo",
        "outputId": "6d87223b-f4f8-4578-e6ee-f69a25b03a9f"
      },
      "execution_count": 84,
      "outputs": [
        {
          "output_type": "stream",
          "name": "stdout",
          "text": [
            "1/1 [==============================] - 0s 20ms/step\n",
            "[[ True]]\n"
          ]
        }
      ]
    },
    {
      "cell_type": "markdown",
      "source": [
        "This person really smokes siggaretes"
      ],
      "metadata": {
        "id": "oaDsRbhpBL30"
      }
    },
    {
      "cell_type": "markdown",
      "metadata": {
        "id": "u7yx47jPZt11"
      },
      "source": [
        "### Predicting the Test set results"
      ]
    },
    {
      "cell_type": "code",
      "source": [
        "y_pred=ann.predict(X_test)\n",
        "y_pred=y_pred>0.5\n",
        "print(np.concatenate((y_pred.reshape(len(y_pred),1), y_test.reshape(len(y_test),1)),1))"
      ],
      "metadata": {
        "colab": {
          "base_uri": "https://localhost:8080/"
        },
        "id": "y7BnjUHwXqm4",
        "outputId": "eb197517-0e87-46b8-be76-132c30fb6f91"
      },
      "execution_count": 86,
      "outputs": [
        {
          "output_type": "stream",
          "name": "stdout",
          "text": [
            "349/349 [==============================] - 0s 1ms/step\n",
            "[[0 0]\n",
            " [1 1]\n",
            " [0 0]\n",
            " ...\n",
            " [1 0]\n",
            " [1 1]\n",
            " [1 1]]\n"
          ]
        }
      ]
    },
    {
      "cell_type": "markdown",
      "metadata": {
        "id": "o0oyfLWoaEGw"
      },
      "source": [
        "### Making the Confusion Matrix"
      ]
    },
    {
      "cell_type": "code",
      "source": [
        "from sklearn.metrics import confusion_matrix, accuracy_score\n",
        "cm = confusion_matrix(y_test, y_pred)\n",
        "print(cm)\n",
        "accuracy_score(y_test, y_pred)"
      ],
      "metadata": {
        "colab": {
          "base_uri": "https://localhost:8080/"
        },
        "id": "xbHNgruzYJbl",
        "outputId": "6e00f37f-90a4-46bf-8c17-b601c53f4b8f"
      },
      "execution_count": 70,
      "outputs": [
        {
          "output_type": "stream",
          "name": "stdout",
          "text": [
            "[[5394 1682]\n",
            " [1008 3055]]\n"
          ]
        },
        {
          "output_type": "execute_result",
          "data": {
            "text/plain": [
              "0.7585061495645928"
            ]
          },
          "metadata": {},
          "execution_count": 70
        }
      ]
    }
  ]
}